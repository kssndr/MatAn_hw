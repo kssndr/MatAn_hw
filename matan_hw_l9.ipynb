{
 "cells": [
  {
   "cell_type": "markdown",
   "metadata": {},
   "source": [
    "# Тема 9. Производные функций нескольких переменных. 2 часть"
   ]
  },
  {
   "cell_type": "markdown",
   "metadata": {},
   "source": [
    "## Исследовать на условный экстремум:"
   ]
  },
  {
   "cell_type": "raw",
   "metadata": {},
   "source": [
    "1.\n",
    "𝑈=3−8𝑥+6𝑦, если 𝑥^2 +𝑦^2 =36"
   ]
  },
  {
   "cell_type": "code",
   "execution_count": 8,
   "metadata": {},
   "outputs": [
    {
     "data": {
      "text/plain": [
       "576"
      ]
     },
     "execution_count": 8,
     "metadata": {},
     "output_type": "execute_result"
    }
   ],
   "source": [
    "64*9"
   ]
  },
  {
   "cell_type": "raw",
   "metadata": {},
   "source": [
    "2.\n",
    "𝑈=2𝑥^2+12𝑥𝑦+32𝑦^2+15, если 𝑥^2+16𝑦^2=64"
   ]
  },
  {
   "cell_type": "raw",
   "metadata": {},
   "source": [
    "3. \n",
    "Численно найти хотя бы один действительных корень системы нелинейных уравнений.\n",
    "\n",
    "\n",
    "𝑥^2 −𝑦^2 +3𝑥𝑦^3 −2𝑥^2𝑦^2 +2𝑥−3𝑦−5=0\n",
    "3𝑦^3 −2𝑥^2 +2𝑥^3𝑦−5𝑥^2𝑦^2 +5=0"
   ]
  },
  {
   "cell_type": "code",
   "execution_count": 148,
   "metadata": {},
   "outputs": [
    {
     "name": "stdout",
     "output_type": "stream",
     "text": [
      "-3.6530799635701205 -0.274763419268042\n"
     ]
    }
   ],
   "source": [
    "import numpy as np\n",
    "import matplotlib.pyplot as plt\n",
    "from scipy.optimize import fsolve, broyden1\n",
    "import math\n",
    "\n",
    "def equations(p):\n",
    "    x, y = p\n",
    "    f1 = x**2 - y**2 + 3*x*y**3 - 2*x**2*y**2 + 2*x - 3*y - 5\n",
    "    f2 = 3*y**3 - 2*x**2 + 2*x**3*y - 5*x**2*y**2 + 5\n",
    "    # Запись системы уравнения вида x+y=2, x-y=0\n",
    "    return f1,f2\n",
    "\n",
    "# Численное решение нелинечной системы уравнений\n",
    "x, y =  fsolve(equations, (-4,1))\n",
    "print (x, y)"
   ]
  },
  {
   "cell_type": "raw",
   "metadata": {},
   "source": [
    "4*. \n",
    "Предложить алгоритм, который найдет все 5 действительных корней."
   ]
  },
  {
   "cell_type": "code",
   "execution_count": 179,
   "metadata": {},
   "outputs": [
    {
     "name": "stdout",
     "output_type": "stream",
     "text": [
      "root-1:x 2.4943565379093964,y 0.7083175224859803\n",
      "root-2:x 2.217753638812902,y 0.6101939797514875\n",
      "root-3:x 1.2733020645301807,y 1.6620391224270976\n",
      "root-4:x 1.375687140388597,y -0.17475798540737905\n",
      "root-5:x -0.3339426699023778,y -1.1678325095382098\n",
      "root-6:x -0.3349975744673097,y -1.1670229059538288\n",
      "root-7:x -3.6530799636853204,y -0.2747634193559734\n"
     ]
    }
   ],
   "source": [
    "import numpy as np\n",
    "import matplotlib.pyplot as plt\n",
    "from scipy.optimize import fsolve, broyden1\n",
    "import math\n",
    "\n",
    "def equations(p):\n",
    "    x, y = p\n",
    "    f1 = x**2 - y**2 + 3*x*y**3 - 2*x**2*y**2 + 2*x - 3*y - 5\n",
    "    f2 = 3*y**3 - 2*x**2 + 2*x**3*y - 5*x**2*y**2 + 5\n",
    "    # Запись системы уравнения вида x+y=2, x-y=0\n",
    "    return f1,f2\n",
    "\n",
    "\n",
    "#начало диапозона\n",
    "step_x = 5 \n",
    "step_y = 1\n",
    "\n",
    "root = 1\n",
    "x_root, y =  fsolve(equations, (step_x, step_y))\n",
    "print (f\"root-{root}:x {x_root},y {y}\")\n",
    "\n",
    "epsilon = 0.000000001\n",
    "\n",
    "while step_x >= -5:\n",
    "    x, y =  fsolve(equations, (step_x, step_y))\n",
    "#     print (f\"    s={step_x} eps={abs(x-x_root)} x{x} y{y}\")\n",
    "    if abs(x_root-x)>epsilon:\n",
    "#         print(f\"x-x_root {abs(x-x_root)}\")\n",
    "        root=root+1\n",
    "        x_root = x\n",
    "        print (f\"root-{root}:x {x_root},y {y}\")\n",
    "        \n",
    "    step_x=step_x-0.5\n",
    "#     ss=ss+0.05"
   ]
  },
  {
   "cell_type": "code",
   "execution_count": null,
   "metadata": {},
   "outputs": [],
   "source": []
  },
  {
   "cell_type": "code",
   "execution_count": null,
   "metadata": {},
   "outputs": [],
   "source": []
  }
 ],
 "metadata": {
  "kernelspec": {
   "display_name": "Python 3",
   "language": "python",
   "name": "python3"
  },
  "language_info": {
   "codemirror_mode": {
    "name": "ipython",
    "version": 3
   },
   "file_extension": ".py",
   "mimetype": "text/x-python",
   "name": "python",
   "nbconvert_exporter": "python",
   "pygments_lexer": "ipython3",
   "version": "3.7.3"
  }
 },
 "nbformat": 4,
 "nbformat_minor": 2
}
