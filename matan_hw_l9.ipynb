{
 "cells": [
  {
   "cell_type": "markdown",
   "metadata": {},
   "source": [
    "# Тема 9. Производные функций нескольких переменных. 2 часть"
   ]
  },
  {
   "cell_type": "markdown",
   "metadata": {},
   "source": [
    "## Исследовать на условный экстремум:"
   ]
  },
  {
   "cell_type": "raw",
   "metadata": {},
   "source": [
    "1.\n",
    "𝑈=3−8𝑥+6𝑦, если 𝑥^2 +𝑦^2 =36"
   ]
  },
  {
   "cell_type": "code",
   "execution_count": 14,
   "metadata": {},
   "outputs": [
    {
     "data": {
      "text/plain": [
       "400"
      ]
     },
     "execution_count": 14,
     "metadata": {},
     "output_type": "execute_result"
    }
   ],
   "source": [
    "16*9+256\n"
   ]
  },
  {
   "cell_type": "raw",
   "metadata": {},
   "source": [
    "2.\n",
    "𝑈=2𝑥^2+12𝑥𝑦+32𝑦^2+15, если 𝑥^2+16𝑦^2=64"
   ]
  },
  {
   "cell_type": "raw",
   "metadata": {},
   "source": [
    "3. \n",
    "Численно найти хотя бы один действительных корень системы нелинейных уравнений.\n",
    "\n",
    "\n",
    "𝑥^2 −𝑦^2 +3𝑥𝑦^3 −2𝑥^2𝑦^2 +2𝑥−3𝑦−5=0\n",
    "3𝑦^3 −2𝑥^2 +2𝑥^3𝑦−5𝑥^2𝑦^2 +5=0"
   ]
  },
  {
   "cell_type": "raw",
   "metadata": {},
   "source": [
    "4*. \n",
    "Предложить алгоритм, который найдет все 5 действительных корней."
   ]
  }
 ],
 "metadata": {
  "kernelspec": {
   "display_name": "Python 3",
   "language": "python",
   "name": "python3"
  },
  "language_info": {
   "codemirror_mode": {
    "name": "ipython",
    "version": 3
   },
   "file_extension": ".py",
   "mimetype": "text/x-python",
   "name": "python",
   "nbconvert_exporter": "python",
   "pygments_lexer": "ipython3",
   "version": "3.7.3"
  }
 },
 "nbformat": 4,
 "nbformat_minor": 2
}
