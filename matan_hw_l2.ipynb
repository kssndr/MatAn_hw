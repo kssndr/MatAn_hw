{
 "cells": [
  {
   "cell_type": "markdown",
   "metadata": {},
   "source": [
    "# Тема “Введение в математических анализ”"
   ]
  },
  {
   "cell_type": "markdown",
   "metadata": {},
   "source": [
    "## 1. Как относятся друг к другу множество и последовательность? (в ответе использовать слова типа: часть, целое, общее, частное, родитель, дочерний субъект и т.д.)"
   ]
  },
  {
   "cell_type": "markdown",
   "metadata": {},
   "source": [
    "Последовательность это частный случай множества - какое-то множество, которое составлено по определенным правилам, где каждому натуральному числу соответствует элимент и всегда можно создать следующий элимент.\n",
    "\n"
   ]
  },
  {
   "cell_type": "markdown",
   "metadata": {},
   "source": [
    "    Множество - набор объектов(элементов) с общим свойством.\n",
    "    \n",
    "    Последовательность - набор элементов множества, в котором каждому натуральному числу соответствует элемент \n",
    "\n",
    "    Функция - правило, устанавливающее однозначную связь между элементами двух множеств\n",
    "    "
   ]
  },
  {
   "cell_type": "markdown",
   "metadata": {},
   "source": [
    "## 2. Прочитать высказывания математической логики, построить их отрицания и установить истинность.\n"
   ]
  },
  {
   "cell_type": "raw",
   "metadata": {},
   "source": [
    "∀y∈[0;1]: sgn(y) = 1 \n",
    "для любого у из множества 0 и 1, функция сигнум y = 1\n",
    "отрицание\n",
    "∃y∈[0;1]: sgn(y) ≠ 1\n",
    "существует y принадлежащее множеству 0 и 1, для которого сигнум не равно 1\n",
    "это отрицание ложное\n",
    "\n",
    "∀n∈N>2:∃x,y,z ∈ N: x^n = y^n + z^n\n",
    "Для любого натуральное n большее 2 существует натуральные x,y,z, которые образуют равенство x^n = y^n + z^n\n",
    "∃n∈N<=2:∀x,y,z ∈ N: x^n ≠ y^n + z^n\n",
    "Существует натуральное n меньше или равно 2, для которого при любом натуральном x,y,z x^n ≠ y^n + z^n ЛОЖЬ\n",
    "\n",
    "∀x∈R∃X∈R: X>x\n",
    "для любого действительного числа x из множества действительных чисел Х справедливо что множество Х больше действителного числа x\n",
    "∃x∈R∀X∈R: X<=x\n",
    "существует такое действительное число x из любого множества действительных чисел X, которое больше или равно этому множеству - ИСТИНА\n",
    "\n",
    "∀x∈C∄y∈C: x>y||x<y\n",
    "для любого комплексного числа x не существует друго комплексного числа y для которых было бы справделиво x>y||x<y\n",
    "∃x∈C∃y∈C: x<y||x>y\n",
    "существует комплексные числа для которых справделиво x<y||x>y ЛОЖЬ\n",
    "\n",
    "∀y∈[0;pi/2]∃e>0:sin y < sin(y+e)\n",
    "для любого y в диапозоне [0;pi/2] существует положительное е при котором sin y < sin(y+e)\n",
    "∃y∈[0;pi/2]∀e>0:sin y > sin(y+e)\n",
    "существует такое y в диапозоне [0;pi/2], для которого при любом положительном е справедливо sin y >= sin(y+e) ИСТИНА\n",
    "\n",
    "∀y∈[0;pi]∃e>0:cos y > cos(y+e)\n",
    "Для любого y в диапозоне [0;pi] существует положительное е при котором справедливо cos y > cos(y+e)\n",
    "∃y∈[0;pi]∀e>0:cos y < cos(y+e)\n",
    "существует такое y в диапозоне [0;pi], для которого при любом положительном е справедливо cos y < cos(y+e) ИСТИНА\n",
    "\n",
    "∃x: x∉{N,Z,Q,R,C}\n",
    "Существует такое x, которое не принадлежит множеству множества натуральных, множества целых, множества рациональных, множества вещественных, множеству комплексных чисел\n",
    "∀x: x∈{N,Z,Q,R,C}\n",
    "Любое x принадлежит множеству множества натуральных, множества целых, множества рациональных, множества вещественных, множеству комплексных чисел - ИСТИНА"
   ]
  },
  {
   "cell_type": "markdown",
   "metadata": {},
   "source": [
    "Субъект  - то о чем говориться\n",
    "\n",
    "Связка - описание отношения субъекта к предикатора или соединяет\n",
    "\n",
    "Предикатор - описание субъекта\n",
    "\n",
    "Квантор в высказывании логики - реализует для высказывания всеобщность, существование или единственность\n",
    "\n",
    "\n",
    "натуральное число N - естественное, счет\n",
    "\n",
    "целое число Z - кольцо\n",
    "\n",
    "рациональное число Q - дроби, поле\n",
    "\n",
    "действительное/вещественное число R - реальное \n",
    "\n",
    "https://ru.wikipedia.org/wiki/Таблица_математических_символов\n",
    "\n",
    "https://ru.wikipedia.org/wiki/Глоссарий_теории_групп#Таблица_обозначений\n",
    "\n",
    "https://infourok.ru/prezentaciya_k_uroku_tonkm__vyskazyvaniya_soderzhaschie_kvantory.-412687.htm"
   ]
  },
  {
   "cell_type": "markdown",
   "metadata": {},
   "source": [
    "# Тема “Множество”"
   ]
  },
  {
   "cell_type": "markdown",
   "metadata": {},
   "source": [
    "## 1. Даны три множества a,b и с. Необходимо выполнить все изученные виды бинарных операций над всеми комбинациями множеств.\n",
    "*Выполнить задание 1 на языке Python\n"
   ]
  },
  {
   "cell_type": "code",
   "execution_count": 87,
   "metadata": {},
   "outputs": [
    {
     "name": "stdout",
     "output_type": "stream",
     "text": [
      "a {5, 6}\n",
      "b {8, 4, 6}\n",
      "c {9, 2}\n",
      "пересечение a⋂b⋂c set()\n",
      "объединение a∪b∪c {2, 4, 5, 6, 8, 9}\n",
      "разность a\\b\\c {5}\n",
      "симметрическая разность а△b△c {2, 4, 5, 8, 9} и {2, 4, 5, 6, 8, 9}\n",
      "декартово произведнеие a×b×c [[5, 8, 9], [5, 8, 2], [5, 4, 9], [5, 4, 2], [5, 6, 9], [5, 6, 2], [6, 8, 9], [6, 8, 2], [6, 4, 9], [6, 4, 2], [6, 6, 9], [6, 6, 2]]\n"
     ]
    }
   ],
   "source": [
    "import random\n",
    "\n",
    "a = {random.randint(1,10) for i in range(random.randint(1,10))}\n",
    "b = {random.randint(1,10) for i in range(random.randint(1,10))}\n",
    "c = {random.randint(1,10) for i in range(random.randint(1,10))}\n",
    "# a=set(\"12357\")\n",
    "# b=set(\"36\")\n",
    "# c=set(\"134\")\n",
    "\n",
    "print(\"a\",a)\n",
    "print(\"b\",b)\n",
    "print(\"c\",c)\n",
    "\n",
    "# пересечение a⋂b⋂c\n",
    "print(f\"пересечение a⋂b⋂c {a&b&c}\")\n",
    "# объединение a∪b∪c\n",
    "print(f\"объединение a∪b∪c {a|b|c}\")\n",
    "# разность a\\b\\c\n",
    "print(f\"разность a\\\\b\\\\c {a-b-c}\")\n",
    "# симметрическая разность (а△b)△c\n",
    "print(f\"симметрическая разность а△b△c {a^b^c} и {(a|b|c)-(a&b&c)}\")\n",
    "# декартово произведнеие a×b×c\n",
    "print(f\"декартово произведнеие a×b×c {[[a0, b0, c0] for a0 in a for b0 in b for c0 in c]}\")"
   ]
  },
  {
   "cell_type": "markdown",
   "metadata": {},
   "source": [
    "# Тема 3 “Последовательность”"
   ]
  },
  {
   "cell_type": "markdown",
   "metadata": {},
   "source": [
    "## 1. Даны 4 последовательности. Необходимо:\n",
    "а) исследовать их на монотонность; \n",
    "\n",
    "b) исследовать на ограниченность;\n",
    "\n",
    "c) найти пятый по счету член.\n"
   ]
  },
  {
   "cell_type": "raw",
   "metadata": {},
   "source": [
    "{an}=2**n - n (∞,n=1)\n",
    "a1=1\n",
    "a2=2\n",
    "a3=5\n",
    "a4=12\n",
    "a5=27\n",
    "монотонность - возрастание\n",
    "последовательность неограниченна"
   ]
  },
  {
   "cell_type": "raw",
   "metadata": {},
   "source": [
    "{bn}=1/(1-n) (∞,n=2)\n",
    "b2=1/(1-2)=1/(-1)=-1\n",
    "b3=1/(1-3)=1/(-2)=-0.5\n",
    "b4=1/(1-4)=1/(-3)=-0.333\n",
    "b5=1/(1-5)=1/(-4)=-0.25\n",
    "\n",
    "монотонность - возрастание\n",
    "последовательность ограничена (сверху 0 и снизу -1)"
   ]
  },
  {
   "cell_type": "raw",
   "metadata": {},
   "source": [
    "{cn}=-1**n+√(2n) (∞,n=1)\n",
    "c1=-1**1+√2=-1+√2=0,4142\n",
    "c2=-1**2+√2*2=1+√4=3\n",
    "c3=-1**3+√2*3=-1+√6=1.45\n",
    "c4=-1**4+√2*4=1+√8=3.83\n",
    "c5=-1**5+√2*5=-1+√10=2.16\n",
    "\n",
    "-1**n+√(2*n)-(-1**(n+1)+√(2*(n+1)))=-1**n+√(2*n)+1**n*(1**1)-√(2*n)+√2=(1**1)+√2=2.42 >0\n",
    "\n",
    "монотонность - возрастание\n",
    "последовательность неограниченна"
   ]
  },
  {
   "cell_type": "raw",
   "metadata": {},
   "source": [
    "{dn}=(-1)**2n+1/n**2 (∞,n=1)\n",
    "\n",
    "d1=(-1)**2+1/1**2=1+1=2\n",
    "d2=(-1)**4+1/2**2=1+1/4=1.25\n",
    "d3=(-1)**6+1/3**2=1+1/9=1.11\n",
    "d4=(-1)**8+1/4**2=1+1/16=1.06\n",
    "d5=(-1)**10+1/5**2=1+1/25=1.04\n",
    "\n",
    "монотонность - убывание\n",
    "последовательность ограничена (сверху 2 и снизу 1)\n"
   ]
  },
  {
   "cell_type": "markdown",
   "metadata": {},
   "source": [
    "## 2. Найти 12-й член заданной неявно последовательности"
   ]
  },
  {
   "cell_type": "raw",
   "metadata": {},
   "source": [
    "a1=128, a(n+1)-an=6\n",
    "a12=128+6*11=128+66=194\n",
    "\n"
   ]
  },
  {
   "cell_type": "markdown",
   "metadata": {},
   "source": [
    "## 3. *На языке Python предложить алгоритм вычисляющий численно предел с точностью "
   ]
  },
  {
   "cell_type": "code",
   "execution_count": 30,
   "metadata": {},
   "outputs": [
    {
     "name": "stdout",
     "output_type": "stream",
     "text": [
      "15\n",
      "предел n/(f(n)**(1/n)=  2.335202883868812\n"
     ]
    },
    {
     "data": {
      "text/plain": [
       "[<matplotlib.lines.Line2D at 0x112fa8978>]"
      ]
     },
     "execution_count": 30,
     "metadata": {},
     "output_type": "execute_result"
    },
    {
     "data": {
      "image/png": "[encoded data removed]",
      "text/plain": [
       "<Figure size 432x288 with 1 Axes>"
      ]
     },
     "metadata": {
      "needs_background": "light"
     },
     "output_type": "display_data"
    }
   ],
   "source": [
    "import numpy as np\n",
    "from matplotlib import pyplot as plt\n",
    "%matplotlib inline\n",
    "\n",
    "def f(n):\n",
    "    if n == 0:\n",
    "        return 1\n",
    "    else:\n",
    "        return n * f(n-1)\n",
    "    \n",
    "\n",
    "n=int(input())\n",
    "print(\"предел n/(f(n)**(1/n)= \",n/(f(n)**(1/n)))\n",
    "\n",
    "# for i in range(1,n):\n",
    "#     print(i/(f(i)**(1/i)))\n",
    "\n",
    "x=np.linspace(1,n,n)\n",
    "# print(x)\n",
    "y=[]\n",
    "for i in range(1,n+1):\n",
    "    y.append(i/(f(i)**(1/i)))\n",
    "\n",
    "plt.plot(x,y)"
   ]
  },
  {
   "cell_type": "markdown",
   "metadata": {},
   "source": [
    "## 4. *Предложить оптимизацию алгоритма, полученного в задании 3, ускоряющую его сходимость."
   ]
  },
  {
   "cell_type": "code",
   "execution_count": null,
   "metadata": {},
   "outputs": [],
   "source": []
  }
 ],
 "metadata": {
  "kernelspec": {
   "display_name": "Python 3",
   "language": "python",
   "name": "python3"
  },
  "language_info": {
   "codemirror_mode": {
    "name": "ipython",
    "version": 3
   },
   "file_extension": ".py",
   "mimetype": "text/x-python",
   "name": "python",
   "nbconvert_exporter": "python",
   "pygments_lexer": "ipython3",
   "version": "3.7.3"
  }
 },
 "nbformat": 4,
 "nbformat_minor": 2
}
