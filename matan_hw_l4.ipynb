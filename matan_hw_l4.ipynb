{
 "cells": [
  {
   "cell_type": "markdown",
   "metadata": {},
   "source": [
    "# Тема “Предел функции”"
   ]
  },
  {
   "cell_type": "raw",
   "metadata": {},
   "source": [
    "https://www.youtube.com/watch?v=Qg0GzacGBK8\n",
    "https://www.khanacademy.org/math/ap-calculus-ab/ab-limits-new/ab-1-4/v/approximating-limit-from-table\n",
    "http://www.math24.ru/точки-разрыва-функции.html\n"
   ]
  },
  {
   "cell_type": "markdown",
   "metadata": {},
   "source": [
    "## 1. Предложить пример функции, не имеющей предела в нуле и в бесконечностях.\n"
   ]
  },
  {
   "cell_type": "code",
   "execution_count": 1,
   "metadata": {},
   "outputs": [],
   "source": [
    "%matplotlib inline\n",
    "import numpy as np\n",
    "import matplotlib.pyplot as plt"
   ]
  },
  {
   "cell_type": "code",
   "execution_count": 9,
   "metadata": {},
   "outputs": [
    {
     "data": {
      "text/plain": [
       "[<matplotlib.lines.Line2D at 0x11507d6d8>]"
      ]
     },
     "execution_count": 9,
     "metadata": {},
     "output_type": "execute_result"
    },
    {
     "data": {
      "image/png": "[encoded data removed]",
      "text/plain": [
       "<Figure size 432x288 with 1 Axes>"
      ]
     },
     "metadata": {
      "needs_background": "light"
     },
     "output_type": "display_data"
    }
   ],
   "source": [
    "# 1/x\n",
    "x = np.linspace(10,1000)\n",
    "x1= np.linspace(-10,-1000)\n",
    "y = 1/x\n",
    "y1 = 1/x1\n",
    "plt.plot(x,y)\n",
    "plt.plot(x1,y1)"
   ]
  },
  {
   "cell_type": "markdown",
   "metadata": {},
   "source": [
    "## 2. Привести пример функции, не имеющей предела в точке, но определенной в ней."
   ]
  },
  {
   "cell_type": "raw",
   "metadata": {},
   "source": [
    "видимо это функция с разрывом и еще и не элементарная - так как одновременно в какойто точке она должна уходить в бесконечность и быть определена (без деления на ноль) (?)\n",
    "видимо это что то например типа прямой и куска 1/x c областью определения например x>0\n",
    "       1/(x-1), x>=1\n",
    "f(x)=\n",
    "       x-1, x>=0"
   ]
  },
  {
   "cell_type": "markdown",
   "metadata": {},
   "source": [
    "## 3. Исследовать функцию  f(x)=x^3-x^2:"
   ]
  },
  {
   "cell_type": "code",
   "execution_count": 14,
   "metadata": {},
   "outputs": [
    {
     "data": {
      "image/png": "[encoded data removed]",
      "text/plain": [
       "<Figure size 432x288 with 1 Axes>"
      ]
     },
     "metadata": {
      "needs_background": "light"
     },
     "output_type": "display_data"
    }
   ],
   "source": [
    "x = np.linspace(-1,2,100)\n",
    "y = x**3-x**2\n",
    "plt.plot(x,y)\n",
    "\n",
    "plt.axhline(0, color='black')\n",
    "plt.axvline(0, color='black')\n",
    "plt.grid(True)"
   ]
  },
  {
   "cell_type": "raw",
   "metadata": {},
   "source": [
    "Область задания и область значений\n",
    "все вещественные числа\n",
    "Область определения:(−∞;∞);{x|x∈R}(-∞;∞);{x|x∈ℝ}\n",
    "Область значений: (−∞;∞);{y|y∈R}\n",
    "    \n",
    "    \n",
    "Нули функции и их кратность. \n",
    "x=0 (Кратность равна 2)\n",
    "\n",
    "Отрезки знакопостоянства.\n",
    "отриц.: (−∞;0);(0;1)\n",
    "полож.: (1;∞)\n",
    "\n",
    "Интервалы монотонности.\n",
    "Увеличение на: (−∞;0);(2/3;∞)\n",
    "Убывает на: (0;2/3)(0;2/3).\n",
    "\n",
    "\n",
    "Четность функции:\n",
    "функция является четной, если f(-x)=f(x)\n",
    "подставим - ч\n",
    "f(−x)=−x3−x2\n",
    "−x3−x2≠x3−x2\n",
    "функция не является четной\n",
    "функция является не четной, если f(-x)=-f(x)\n",
    "умножим на (-x)\n",
    "-f(x)=−x3+x2\n",
    "−x3−x2≠−x3+x2\n",
    "функция не является не четной\n",
    "Функция не является четной или нечетной\n",
    "\n",
    "Ограниченность.\n",
    "не ограничена ни сверху ни снизу\n",
    "\n",
    "Периодичность.\n",
    "не переодична"
   ]
  },
  {
   "cell_type": "markdown",
   "metadata": {},
   "source": [
    "## 4.Найти предел:"
   ]
  },
  {
   "cell_type": "raw",
   "metadata": {},
   "source": [
    "а)\n",
    "\n",
    "lim(x→0)(3x^3-2x^2)/4x^2\n",
    "упростим выражение - вынесем x^2 и ократим с знаменателем:\n",
    "lim(x→0)(3x-2)/4\n",
    "при x→0 3x→0, поэтому получаем\n",
    "lim(x→0)(3x-2)/4=-1/2"
   ]
  },
  {
   "cell_type": "raw",
   "metadata": {},
   "source": [
    "b)\n",
    "\n",
    "lim(x→0) ((1+x)^1/2 -1)/((1+x)^1/3 -1)\n",
    "избавимся от корня в числителе, представив что это разность квадратов - умножим числитель и знаменатель на \n",
    "((1+x)^1/2 +1)\n",
    "получаем:\n",
    "lim(x→0) 1+x-1/((1+x)^1/3 -1)((1+x)^1/2 +1)\n",
    "таким образом у нас в числителе остается  x\n",
    "теперь подставим x→0 то есть ноль:\n",
    "lim(x→0) x/((1+x)^1/3 -1)((1+0)^1/2 +1)\n",
    "получаем 2 в знаменателе - выносим 1/2 перед пределом\n",
    "1/2 lim(x→0) x/((1+x)^1/3 -1)\n",
    "теперь избавимся от кубического корня, представив что это разность кубов - умножим числитель и знаменатель на \n",
    "((1+x)^2/3 +(1+x)^1/3+1))\n",
    "1/2 lim(x→0) x((1+x)^2/3 +(1+x)^1/3+1))/((1+x)^1/3 -1)((1+x)^2/3 +(1+x)^1/3+1))\n",
    "получаем в знаменателе разность кубов\n",
    "1/2 lim(x→0) x((1+x)^2/3 +(1+x)^1/3+1))/((1+x)^1/3)^3 - 1^3\n",
    "избавляемся от кубического корня и 1 в кубе это 1 поэтому у нас в знаменателе остается x\n",
    "1/2 lim(x→0) x((1+x)^2/3 +(1+x)^1/3+1))/x\n",
    "сокращаем x\n",
    "1/2 lim(x→0) (1+x)^2/3 +(1+x)^1/3+1\n",
    "подставляя x→0 получаем\n",
    "1/2 lim(x→0) (1+0)^2/3 +(1+x0)^1/3+1\n",
    "1/2 lim(x→0) (1)^2/3 +(1)^1/3+1\n",
    "1/2 lim(x→0) 1+1+1\n",
    "1/2 lim(x→0) 3\n",
    "lim(x→0) ((1+x)^1/2 -1)/((1+x)^1/3 -1)=3/2"
   ]
  },
  {
   "cell_type": "raw",
   "metadata": {},
   "source": [
    "с)\n",
    "\n",
    "lim(x→∞) ((x+3)/x)^(4x+1)\n",
    "сразу упростим подстпенное число (? вроде так это называтеся)\n",
    "lim(x→∞) (1+3/x)^(4x+1)\n",
    "получаем типичный вид второго замечательного предела, остатется только преобразовать немного - возведем в степень x выражение и разделим степень на x\n",
    "lim(x→∞) ((1+3/x)^x)((4x+1)/x)\n",
    "отюда предел равен\n",
    "lim(x→∞) ((1+3/x)^x)((4x+1)/x) = e^lim(x→∞)(4x+1)/x)=e^(4+1/x)\n",
    "1/(x→∞)=бесконечно малое или ноль\n",
    "получаем\n",
    "e^4\n",
    "\n",
    "(только у меня вопрос:\n",
    "я построил графики предела и у меня сама функция где то высоко высоко над e^(4+1/x) получилось - как это? вроде предел должен быть рядом с ветками уходящими в бесконечность??)\n"
   ]
  },
  {
   "cell_type": "markdown",
   "metadata": {},
   "source": [
    "# Тема “Теоремы о пределах”"
   ]
  },
  {
   "cell_type": "markdown",
   "metadata": {},
   "source": [
    "## Найти предел:"
   ]
  },
  {
   "cell_type": "raw",
   "metadata": {},
   "source": [
    "a)\n",
    "lim (x→0) sin(2x)/4x"
   ]
  },
  {
   "cell_type": "code",
   "execution_count": 40,
   "metadata": {},
   "outputs": [
    {
     "data": {
      "text/plain": [
       "[<matplotlib.lines.Line2D at 0x11578ccf8>]"
      ]
     },
     "execution_count": 40,
     "metadata": {},
     "output_type": "execute_result"
    },
    {
     "data": {
      "image/png": "[encoded data removed]",
      "text/plain": [
       "<Figure size 432x288 with 1 Axes>"
      ]
     },
     "metadata": {
      "needs_background": "light"
     },
     "output_type": "display_data"
    }
   ],
   "source": [
    "x=np.linspace(-10,10,100)\n",
    "y=np.sin(x)/x\n",
    "plt.plot(x,y)"
   ]
  },
  {
   "cell_type": "raw",
   "metadata": {},
   "source": [
    "при x=0 мы получаем 0/0 - неопределенность\n",
    "поэтому используем первый замечательный пределе:\n",
    "    lim (x→0) sin(x)/x = 1\n",
    "    \n",
    "lim (x→0) sin(2x)/4x=sin(2x)/2*2x =1/2"
   ]
  },
  {
   "cell_type": "raw",
   "metadata": {},
   "source": [
    "b)\n",
    "lim (x→0) x/sin(x)\n",
    "при x=0 мы получаем 0/0 - неопределенность\n",
    "поэтому используем первый замечательный пределе:\n",
    "    lim (x→0) sin(x)/x = 1\n",
    "\n",
    "преобразуем:\n",
    "lim (x→0) x/sin(x)=lim (x→0) 1/sin(x)/x=1/1=1"
   ]
  },
  {
   "cell_type": "code",
   "execution_count": 44,
   "metadata": {},
   "outputs": [
    {
     "data": {
      "image/png": "[encoded data removed]",
      "text/plain": [
       "<Figure size 432x288 with 1 Axes>"
      ]
     },
     "metadata": {
      "needs_background": "light"
     },
     "output_type": "display_data"
    }
   ],
   "source": [
    "x=np.linspace(-1,1,1000)\n",
    "y=x/np.sin(x)\n",
    "plt.plot(x,y)\n",
    "plt.axhline(0, color='black')\n",
    "plt.axvline(0, color='black')\n",
    "plt.grid(True)"
   ]
  },
  {
   "cell_type": "raw",
   "metadata": {},
   "source": [
    "b)\n",
    "lim (x→0) x/arcsin(x)\n",
    "\n",
    "используем свойство arcsin(sin(a))=a\n",
    "выразим  a=sin(x)\n",
    "получаем предел\n",
    "lim (x→0) sin(a)/a =1\n",
    "согласно первому замечательному пределу\n",
    "\n",
    "или\n",
    "используя следствия первого замечательрного предела\n",
    "lim (x→0) x/arcsin(x)=1/arcsin(x)/x=1/1=1\n"
   ]
  },
  {
   "cell_type": "code",
   "execution_count": 45,
   "metadata": {},
   "outputs": [
    {
     "data": {
      "image/png": "[encoded data removed]",
      "text/plain": [
       "<Figure size 432x288 with 1 Axes>"
      ]
     },
     "metadata": {
      "needs_background": "light"
     },
     "output_type": "display_data"
    }
   ],
   "source": [
    "x=np.linspace(-1,1,1000)\n",
    "y=x/np.arcsin(x)\n",
    "plt.plot(x,y)\n",
    "plt.axhline(0, color='black')\n",
    "plt.axvline(0, color='black')\n",
    "plt.grid(True)"
   ]
  },
  {
   "cell_type": "raw",
   "metadata": {},
   "source": [
    "с)\n",
    "lim(x→∞) ((4x+3)/(4x-3))^6x\n",
    "\n",
    "для решения будем использовать второй замечательный предел\n",
    "lim(x→∞) (1+1/a)^a=e\n",
    "\n",
    "lim(x→∞) ((4x-3+6)/(4x-3))^6x\n",
    "lim(x→∞) ((1+6/(4x-3))^6x\n",
    "lim(x→∞) (((1+6/(4x-3))^4x-3)^6x/(4x-3)\n",
    "e^(6x/(4x-3))=e^(6x/4x(1-3/4x))=e^(3/2(1-3/4x))\n",
    "при x→∞ 3/4x идет в ноль, поэтому\n",
    "e^(3/2(1-0))=e^3/2"
   ]
  },
  {
   "cell_type": "code",
   "execution_count": 59,
   "metadata": {},
   "outputs": [
    {
     "name": "stderr",
     "output_type": "stream",
     "text": [
      "/anaconda3/lib/python3.7/site-packages/ipykernel_launcher.py:2: RuntimeWarning: invalid value encountered in power\n",
      "  \n",
      "/anaconda3/lib/python3.7/site-packages/ipykernel_launcher.py:3: RuntimeWarning: invalid value encountered in power\n",
      "  This is separate from the ipykernel package so we can avoid doing imports until\n"
     ]
    },
    {
     "data": {
      "image/png": "[encoded data removed]",
      "text/plain": [
       "<Figure size 432x288 with 1 Axes>"
      ]
     },
     "metadata": {
      "needs_background": "light"
     },
     "output_type": "display_data"
    }
   ],
   "source": [
    "x=np.linspace(-5,5,10)\n",
    "y=(1+1/x)**x\n",
    "y2=((4*x+3)/(4*x-3))**(6*x)\n",
    "y3=2.71**((2/3)*x)\n",
    "plt.plot(x,y)\n",
    "plt.plot(x,y2)\n",
    "plt.plot(x,y3)\n",
    "\n",
    "plt.axhline(0, color='black')\n",
    "plt.axvline(0, color='black')\n",
    "plt.grid(True)"
   ]
  },
  {
   "cell_type": "raw",
   "metadata": {},
   "source": [
    "d)\n",
    "lim(x→∞) (sinx+lnx)/x\n",
    "\n",
    "воспользуемся тем что предел суммы двух функций равен сумме пределов\n",
    "\n",
    "lim(x→∞)sinx/x+lnx/x = lim(x→∞)sinx/x + lim(x→∞)lnx/x\n",
    "\n",
    "\n",
    "lim(x→∞)lnx/x\n",
    "согласно следствию из второго замечательного предела этот предел равен 0\n",
    "\n",
    "lim(x→∞)sinx/x =1/∞=0\n",
    "\n",
    "lim(x→∞) (sinx+lnx)/x=0+0=0"
   ]
  },
  {
   "cell_type": "code",
   "execution_count": null,
   "metadata": {},
   "outputs": [],
   "source": [
    "d)\n",
    "lim(x→0) (sinx+lnx)/x\n",
    "\n",
    "воспользуемся тем что предел суммы двух функций равен сумме пределов\n",
    "\n",
    "lim(x→0)sinx/x+lnx/x = lim(x→0)sinx/x + lim(x→0)lnx/x\n",
    "\n",
    "согласно первому пределу lim(x→0)sinx/x=1\n",
    "однако\n",
    "lim(x→0)lnx/x=-∞/0=-∞\n",
    "получается что \n",
    "lim(x→0) (sinx+lnx)/x=-∞\n",
    "o_O"
   ]
  },
  {
   "cell_type": "code",
   "execution_count": 64,
   "metadata": {},
   "outputs": [
    {
     "name": "stderr",
     "output_type": "stream",
     "text": [
      "/anaconda3/lib/python3.7/site-packages/ipykernel_launcher.py:2: RuntimeWarning: invalid value encountered in log\n",
      "  \n"
     ]
    },
    {
     "data": {
      "image/png": "[encoded data removed]",
      "text/plain": [
       "<Figure size 432x288 with 1 Axes>"
      ]
     },
     "metadata": {
      "needs_background": "light"
     },
     "output_type": "display_data"
    }
   ],
   "source": [
    "x=np.linspace(-5,5,100)\n",
    "y=(np.sin(x)+np.log(x))/x\n",
    "plt.plot(x,y)\n",
    "\n",
    "plt.axhline(0, color='black')\n",
    "plt.axvline(0, color='black')\n",
    "plt.grid(True)"
   ]
  }
 ],
 "metadata": {
  "kernelspec": {
   "display_name": "Python 3",
   "language": "python",
   "name": "python3"
  },
  "language_info": {
   "codemirror_mode": {
    "name": "ipython",
    "version": 3
   },
   "file_extension": ".py",
   "mimetype": "text/x-python",
   "name": "python",
   "nbconvert_exporter": "python",
   "pygments_lexer": "ipython3",
   "version": "3.7.3"
  }
 },
 "nbformat": 4,
 "nbformat_minor": 2
}
