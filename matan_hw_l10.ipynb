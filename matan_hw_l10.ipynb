{
 "cells": [
  {
   "cell_type": "markdown",
   "metadata": {},
   "source": [
    "# Lesson 10"
   ]
  },
  {
   "cell_type": "markdown",
   "metadata": {},
   "source": [
    "# Тема 7 “Ряды”"
   ]
  },
  {
   "cell_type": "markdown",
   "metadata": {},
   "source": [
    "## 1. Исследовать ряд на сходимость, используя признак д’Аламбера:\n",
    "\n",
    "## $\\sum\\limits_{n=1}^\\infty \\frac{n^n}{(n!)^2}$\n",
    "\n",
    "## Решение:"
   ]
  },
  {
   "cell_type": "markdown",
   "metadata": {},
   "source": [
    "#### $\\sum\\limits_{n=1}^\\infty \\frac{n^n}{(n!)^2}$\n",
    "\n",
    "#### $\\lim\\limits_{n \\to +\\infty} \\frac{a_{n+1}}{a_n}=\\cfrac{\\frac{n+1^{n+1}}{((n+1)!)^2}}{\\frac{n^n}{(n!)^2}}=\\frac{(n+1)(n+1)^n n! n!}{(n+1)!(n+1)!n^n}=\\frac{(n+1)^n}{(n+1)n^n}=\\frac{(n+1)(n+1)^{n-1}}{(n+1)n^n}=\\frac{(n+1)^{n-1}}{n^n}=0$\n",
    "\n",
    "$D=0$ согласно признаку д'Аламбера - ряд сходиться"
   ]
  },
  {
   "cell_type": "markdown",
   "metadata": {},
   "source": [
    "## 2. Исследовать ряд на сходимость, используя радикальный признак Коши:\n",
    "\n",
    "\n",
    "## $\\sum\\limits_{n=1}^\\infty \\frac{n}{2^n}$\n",
    "\n",
    "## Решение:"
   ]
  },
  {
   "cell_type": "markdown",
   "metadata": {},
   "source": [
    "#### $\\sum\\limits_{n=1}^\\infty \\frac{n}{2^n}$\n",
    "\n",
    "#### $\\lim\\limits_{n \\to +\\infty} \\sqrt[n]{a}=\\sqrt[n]{\\frac{n}{2^n}}=\\left(\\frac{n}{2^n}\\right)^{\\frac{1}{n}}=\\frac{n^\\frac{1}{n}}{2}=\\frac{1}{2}$\n",
    "\n",
    "$D<1$ согласно признаку Коши - ряд сходиться"
   ]
  },
  {
   "cell_type": "markdown",
   "metadata": {},
   "source": [
    "## 3. Исследовать ряд на сходимость, используя признак Лейбница:\n",
    "\n",
    "## $\\sum\\limits_{n=1}^\\infty \\frac{(-1)^n}{n+\\ln n}$\n",
    "\n",
    "## Решение:"
   ]
  },
  {
   "cell_type": "markdown",
   "metadata": {},
   "source": [
    "#### $\\sum\\limits_{n=1}^\\infty \\frac{(-1)^n}{n+\\ln n}$\n",
    "\n",
    "1) знакочередование  \n",
    "#### $\\displaystyle\\sum_{n=1}^{\\infty} \\frac{(-1)^n}{n+\\ln n}=\\frac{(-1)^1}{1+\\ln 1}+\\frac{(-1)^2}{2+\\ln 2} + \\frac{(-1)^3}{3+\\ln 3} + \\frac{(-1)^4}{4+\\ln 4}+ \\dots=-1+\\frac{1}{2.69}-\\frac{1}{4.1}+\\frac{1}{5.39}+\\dots$  \n",
    "знаки чередуются  \n",
    "2) Убываение по модулю  \n",
    "#### $\\lim\\limits_{n \\to +\\infty}|a_n|=\\lim\\limits_{n \\to +\\infty}\\left| \\frac{1}{n+\\ln n}\\right|=0$\n",
    "#### $\\left| \\frac{1}{n+\\ln n} \\right| >\\left| \\frac{1}{(n+1)+\\ln (n+1)}\\right|$\n",
    "ряд сходиться абсолютно"
   ]
  },
  {
   "cell_type": "markdown",
   "metadata": {},
   "source": [
    "## 4. Исследовать ряд на сходимость, используя признак Раабе:\n",
    "\n",
    "## $\\sum\\limits_{n=1}^\\infty \\frac{3^n}{2^n}$\n",
    "\n",
    "## Решение:"
   ]
  },
  {
   "cell_type": "markdown",
   "metadata": {},
   "source": [
    "#### $\\sum\\limits_{n=1}^\\infty \\frac{3^n}{2^n}$  \n",
    "#### $\\lim\\limits_{n \\to +\\infty}\\left(n\\left(\\frac{a_n}{a_{n+1}}-1\\right)\\right)=\\left(n\\left(\\cfrac{\\cfrac{3^n}{2^n}}{\\cfrac{3^{n+1}}{2^{n+1}}}-1\\right)\\right)=\\left(n\\left(\\cfrac{3^n 2^{n+1}}{2^n 3^{n+1}}-1\\right)\\right)=\\left(n\\left(\\cfrac{2}{3}-1\\right)\\right)=n\\left(-\\cfrac{1}{3}\\right)<1$\n",
    "согласно признаку Раабе - ряд расходится"
   ]
  },
  {
   "cell_type": "markdown",
   "metadata": {},
   "source": [
    "## 5. Разложить функцию по Тейлору в единице:\n",
    "\n",
    "## $f(x)=\\ln (16x^2)$\n",
    "\n",
    "## Решение:"
   ]
  },
  {
   "cell_type": "markdown",
   "metadata": {},
   "source": [
    " формула Тейлора:  \n",
    " $$f(x)=f(a)+\\frac{f'(a)}{1!}(x-a)+\\frac{f\"(a)}{2!}(x-a)^2+\\dots+\\frac{f^{(n)}(a)}{n!}(x-a)^n$$\n",
    " \n",
    " Разложим ряд в степенную функцию по степеням $x-1$ используя стандартное разложение элементарной функции $f(x)=\\ln(1+x)$  \n",
    "$f(1)=\\ln 16$  \n",
    "$f'(x)=\\cfrac{2}{x}, f'(1)=2$  \n",
    "$f''(x)=-\\cfrac{2}{x^2}, f''(1)=-2$  \n",
    "$f'''(x)=\\cfrac{4}{x^3}, f'''(1)=4$  \n",
    "$f''''(x)=-\\cfrac{12}{x^4}, f'''(1)=-12$  \n",
    "$f'''''(x)=\\cfrac{48}{x^5}, f'''(1)=48$\n",
    " \n",
    " вставляем в формулу:  \n",
    " $\\ln(16x^2)=\\ln 16 +\\frac{2}{1!}(x-1)-\\frac{2}{2!}(x-1)^2+\\frac{4}{3!}(x-1)^3-\\frac{12}{4!}(x-1)^4+\\frac{48}{5!}(x-1)^5+\\dots =  \\\\\n",
    " =\\ln 16 +2(x-1)-(x-1)^2+\\frac{2}{3}(x-1)^3-(x-1)^4+\\frac{12}{15}(x-1)^5+\\dots$"
   ]
  },
  {
   "cell_type": "markdown",
   "metadata": {},
   "source": [
    "## 6. * Дана функция\n",
    "\n",
    "## $f(x)=x^2$\n",
    "\n",
    "\n",
    "\n",
    "## a. Разложить функцию в ряд Фурье по косинусам на отрезке $ x \\in [-2, 0] $\n",
    "\n",
    "## b. Построить график функции и ее разложения.\n",
    "\n",
    "## Решение:"
   ]
  },
  {
   "cell_type": "markdown",
   "metadata": {},
   "source": [
    "Разложим функцию $f(x)=x^2$ в четный ряд Фурье на промежутке $[-2,0]$ $L=\\frac{a-b}{2}=\\frac{-2-0}{2}=-1$ \n",
    "\n",
    "$$f(x)\\sim \\frac{a_0}{2}+\\sum\\limits_{n=1}^\\infty (a_n\\cos \\frac{\\pi nx}{L}+b_n\\sin \\frac{\\pi nx}{L})$$\n",
    "\n",
    "поскольку функция $f(x)=x^2$ четная - коэфициент $b_n$ обнуляется"
   ]
  },
  {
   "cell_type": "markdown",
   "metadata": {},
   "source": [
    "a) коэффициент Фурье $a_0$  \n",
    "\n",
    "$$a_0=\\frac{2}{L}\\int\\limits_{0}^{L} f(x) dx=\\frac{2}{-1}\\int\\limits_{0}^{-1} x^2 dx=-2\\left (\\frac{x^3}{3}\\right)\\mid_{0}^{-1}=-2\\left (\\frac{-1^3}{3}-\\frac{0^3}{3}\\right)=\\frac{2}{3}$$  \n"
   ]
  },
  {
   "cell_type": "markdown",
   "metadata": {},
   "source": [
    "б) коэффициент Фурье $a_n$  \n",
    "\n",
    "$$a_n=\\frac{2}{L}\\int\\limits_{0}^{L} f(x) \\cos \\frac{\\pi nx}{L}dx=\\frac{2}{-1}\\int\\limits_{0}^{-1} x^2 \\cos \\frac{\\pi nx}{L} dx = (*)$$\n",
    "Возьмем интеграл по частям,используя формулу $\\int udv = uv - \\int v du$, где  $u=x^2, dv = \\cos (-\\pi nx)$ "
   ]
  },
  {
   "cell_type": "markdown",
   "metadata": {},
   "source": [
    "$$(*)= -2 \\left(-\\frac{x^2\\sin (-\\pi nx)}{\\pi n}\\mid_0^{-1} - \\int\\limits_{0}^{-1} -\\frac{1}{\\pi n} \\sin (-\\pi nx) \\ 2x \\ dx \\right) = -2 \\left(-\\frac{x^2\\sin (-\\pi nx)}{\\pi n}\\mid_0^{-1} +\\frac{2}{\\pi n} \\int\\limits_{0}^{-1}\\sin (-\\pi nx) \\ x \\ dx \\right)= (*)$$\n",
    "\n",
    "Возьмем интеграл по частям,используя формулу $\\int udv = uv - \\int v du$, где  $u=x, dv = \\sin (-\\pi nx)$  \n",
    "\n",
    "$$(*)= -2 \\left(-\\frac{x^2\\sin (-\\pi nx)}{\\pi n}\\mid_0^{-1} +\\frac{2}{\\pi n} \\left(\\frac{x\\cos (-\\pi nx)}{\\pi n}\\mid_0^{-1}-\\frac{1}{\\pi n} \\int\\limits_{0}^{-1}\\cos (-\\pi nx) \\ dx\\right)\\right)=(*)$$\n",
    "\n",
    "Возьмем интеграл по частям,используя формулу $\\int udv = uv - \\int v du$, где  $u=-\\pi \\ nx, du =-\\pi\\ n\\ dx, \\frac {1}{-\\pi n}du = dx$ "
   ]
  },
  {
   "cell_type": "markdown",
   "metadata": {},
   "source": [
    " \n",
    "\n",
    "$$(*)= -2 \\left(-\\frac{x^2\\sin (-\\pi nx)}{\\pi n}\\mid_0^{-1} +\\frac{2}{\\pi n} \\left(\\frac{x\\cos (-\\pi nx)}{\\pi n}\\mid_0^{-1}+\\frac{1}{\\pi^2 n^2} \\int\\limits_{0}^{\\pi n}\\cos u \\ du\\right)\\right)= -2 \\left(-\\frac{x^2\\sin (-\\pi nx)}{\\pi n}\\mid_0^{-1} +\\frac{2}{\\pi n} \\left(\\frac{x\\cos (-\\pi nx)}{\\pi n}\\mid_0^{-1}+\\frac{1}{\\pi^2 n^2}\\sin u\\mid_0^{\\pi n}\\right)\\right)= -2 \\left(-\\frac{(-1)^2\\sin (-\\pi n(-1))}{\\pi n} +\\frac{2}{\\pi n} \\left(\\frac{x\\cos (-\\pi nx)}{\\pi n}\\mid_0^{-1}+\\frac{\\sin u}{\\pi^2 n^2}\\mid_0^{\\pi n}\\right)\\right)=-2\\left(-\\frac{\\sin \\pi n}{\\pi n}-\\frac{2\\cos \\pi n}{\\pi^2 n^2}+\\frac{2\\sin \\pi n}{\\pi^3 n^3}\\right)=-2\\left( \\frac{-\\pi^2 n^2\\sin \\pi n-2\\pi n \\cos \\pi n+2\\sin \\pi n}{\\pi^3 n^3}\\right) = \\frac{4 \\pi n \\cos \\pi n - 4\\sin \\pi n + 2 \\pi^2 n^2 \\sin \\pi n}{\\pi^3 n^3}$$\n",
    "\n"
   ]
  },
  {
   "cell_type": "markdown",
   "metadata": {},
   "source": [
    "Запишим разложеную в ряд Фурье функцию:  \n",
    "$$f(x)\\sim \\frac{a_0}{2}+\\sum\\limits_{n=1}^\\infty a_n\\cos nx = \\frac{2}{6}+\\sum\\limits_{n=1}^\\infty \\frac{4 \\pi n \\cos \\pi n - 4\\sin \\pi n + 2 \\pi^2 n^2 \\sin \\pi n}{\\pi^3 n^3}\\cos \\pi nx$$\n",
    "\n",
    "\n",
    "http://www.math24.ru/разложение-в-ряд-фурье-непериодических-функций.html"
   ]
  },
  {
   "cell_type": "markdown",
   "metadata": {},
   "source": [
    "# Тема 8 “Понятие об интеграле”"
   ]
  },
  {
   "cell_type": "markdown",
   "metadata": {},
   "source": [
    "## 1. Найти неопределенный интеграл:\n",
    "\n",
    "## $\\int (2x^2-2x-1+\\sin x-\\cos x+\\ln x+e^x)\\, \\mathrm{d}x$\n",
    "\n",
    "## Решение:"
   ]
  },
  {
   "cell_type": "markdown",
   "metadata": {},
   "source": [
    "$$\\int(2x^2-2x-1+\\sin x-\\cos x+\\ln x+e^x)dx = \\int2x^2dx-\\int2xdx-\\int1dx+\\int\\sin xdx-\\int\\cos xdx+\\int\\ln xdx+\\int e^xdx= \\\\\n",
    "= \\frac{2}{3}x^3-x^2-x-\\cos x-\\sin x+x\\ln x-x+e^x+C$$"
   ]
  },
  {
   "cell_type": "markdown",
   "metadata": {},
   "source": [
    "## 2. Найти неопределенный интеграл:\n",
    "\n",
    "## $\\int (2x-6xz^2-5x^2y-3\\ln x)\\, \\mathrm{d}x$\n",
    "\n",
    "## Решение:"
   ]
  },
  {
   "cell_type": "markdown",
   "metadata": {},
   "source": [
    "$$\\int (2x-6xz^2-5x^2y-3\\ln (x)dx =2\\int xdx+6\\int xz^2 dx - 5\\int yx^2 dx - 3\\int \\ln (z) dx =$$\n",
    "\n",
    "$$ = x^2+3z^2x^2-\\frac{5}{3}x^3-3\\ln (z) x +C$$"
   ]
  },
  {
   "cell_type": "markdown",
   "metadata": {},
   "source": [
    "## 3. Вычислить определенный интеграл\n",
    "\n",
    "## $\\int\\limits_0^{\\pi} 3x^2\\sin(2x)dx$\n",
    "\n",
    "## Решение:"
   ]
  },
  {
   "cell_type": "markdown",
   "metadata": {},
   "source": [
    "$$\\int\\limits_0^{\\pi} 3x^2\\sin(2x)dx$$\n",
    "\n",
    "Применем $\\int udv = uv - \\int vdu$ , где $u=x^2, dv = \\sin 2x$\n",
    "\n",
    "$$\\int 3x^2\\sin(2x)dx = 3(x^2(\\sin 2x)'-\\int(sin 2x)'dx^2 = 3(x^2(-\\frac{1}{2} \\cos 2x)-\\int -\\frac{1}{2} \\cos 2x 2x dx = 3(-\\frac{x^2\\cos 2x}{2}+\\int x \\cos 2x dx)$$\n",
    "\n",
    "Применем $\\int udv = uv - \\int vdu$ , где $u=x, dv = \\cos 2x$\n",
    "\n",
    "$$3(-\\frac{x^2\\cos 2x}{2}+\\int x \\cos 2x dx) = 3(-\\frac{x^2\\cos 2x}{2}+(x\\frac{1}{2}\\sin2x - \\frac{1}{2}\\int\\sin 2x dx))$$\n",
    "\n",
    "Применем $$\\int udv = uv - \\int vdu$ , где $u=2x, du = 2dx, \\frac{1}{2}du = dx, dv = \\sin 2x, (\\frac{1}{2}\\sin 2x)'=cos 2x$$\n",
    "\n",
    "$$3(-\\frac{x^2\\cos 2x}{2}+(\\frac{x\\sin2x}{2} - \\frac{1}{2}\\int\\sin 2x dx))=3(-\\frac{x^2\\cos 2x}{2}+(\\frac{x\\sin2x}{2} - \\frac{1}{2}\\int\\sin 2x frac{1}{2}d(2x)))= 3(-\\frac{x^2\\cos 2x}{2}+(\\frac{x\\sin2x}{2} + \\frac{1}{4}\\cos 2x ))=$$\n",
    "\n",
    "$$=3(-\\frac{x^2\\cos 2x}{2}+\\frac{x\\sin2x}{2} + \\frac{\\cos 2x}{4} )+ C$$\n",
    "\n",
    "использовать формулу Ньютона-Лейбница: $\\int\\limits_a^b f(x)dx = F(x)|_a^b = F(b) -F(a)$\n",
    "\n",
    "\n",
    "$$F(x)|_0^\\pi = 3(-\\frac{\\pi^2\\cos 2\\pi}{2}+\\frac{\\pi\\sin2\\pi}{2} + \\frac{\\cos 2\\pi}{4} ) - 3(-\\frac{0^2\\cos 0}{2}+\\frac{0\\sin 0}{2} + \\frac{\\cos 0}{4} ) = 3(-\\frac{\\pi^2}{2}+0 + \\frac{1}{4} ) - 3(0+0 + \\frac{1}{4} ) = (-\\frac{3\\pi^2}{2}+0 + \\frac{3}{4}  -  \\frac{3}{4} ) = -\\frac{3\\pi^2}{2}$$\n"
   ]
  },
  {
   "cell_type": "markdown",
   "metadata": {},
   "source": [
    "## 4. Найти неопределенный интеграл:\n",
    "\n",
    "## $\\int \\frac{1}{\\sqrt{x+1}}\\, \\mathrm{d}x$\n",
    "\n",
    "## Решение:"
   ]
  },
  {
   "cell_type": "markdown",
   "metadata": {},
   "source": [
    "$\\int \\frac{1}{\\sqrt{x+1}}dx = \\int (x+1)^{-\\frac{1}{2}}dx$\n",
    "\n",
    "$(x+1)=t$\n",
    "$x=t-1$\n",
    "$dt=d(x+1)=(x+1)'dx=dx$\n",
    "\n",
    "$\\int t^{-\\frac{1}{2}}dt=2t^{\\frac{1}{2}}+C$\n",
    "\n",
    "$\\int \\frac{1}{\\sqrt{x+1}}dx =2\\sqrt{x+1} +C$\n"
   ]
  }
 ],
 "metadata": {
  "kernelspec": {
   "display_name": "Python 3",
   "language": "python",
   "name": "python3"
  },
  "language_info": {
   "codemirror_mode": {
    "name": "ipython",
    "version": 3
   },
   "file_extension": ".py",
   "mimetype": "text/x-python",
   "name": "python",
   "nbconvert_exporter": "python",
   "pygments_lexer": "ipython3",
   "version": "3.7.3"
  }
 },
 "nbformat": 4,
 "nbformat_minor": 2
}
