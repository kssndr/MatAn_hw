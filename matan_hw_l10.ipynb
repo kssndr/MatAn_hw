{
 "cells": [
  {
   "cell_type": "markdown",
   "metadata": {},
   "source": [
    "# Lesson 10"
   ]
  },
  {
   "cell_type": "markdown",
   "metadata": {},
   "source": [
    "# Тема 7 “Ряды”"
   ]
  },
  {
   "cell_type": "markdown",
   "metadata": {},
   "source": [
    "## 1. Исследовать ряд на сходимость, используя признак д’Аламбера:\n",
    "\n",
    "## $\\sum\\limits_{n=1}^\\infty \\frac{n^n}{(n!)^2}$\n",
    "\n",
    "## Решение:"
   ]
  },
  {
   "cell_type": "markdown",
   "metadata": {},
   "source": [
    "## 2. Исследовать ряд на сходимость, используя радикальный признак Коши:\n",
    "\n",
    "\n",
    "## $\\sum\\limits_{n=1}^\\infty \\frac{n}{2^n}$\n",
    "\n",
    "## Решение:"
   ]
  },
  {
   "cell_type": "markdown",
   "metadata": {},
   "source": [
    "## 3. Исследовать ряд на сходимость, используя признак Лейбница:\n",
    "\n",
    "## $\\sum\\limits_{n=1}^\\infty \\frac{(-1)^n}{n+\\ln n}$\n",
    "\n",
    "## Решение:"
   ]
  },
  {
   "cell_type": "markdown",
   "metadata": {},
   "source": [
    "## 4. Исследовать ряд на сходимость, используя признак Раабе:\n",
    "\n",
    "## $\\sum\\limits_{n=1}^\\infty \\frac{3^n}{2^n}$\n",
    "\n",
    "## Решение:"
   ]
  },
  {
   "cell_type": "markdown",
   "metadata": {},
   "source": [
    "## 5. Разложить функцию по Тейлору в единице:\n",
    "\n",
    "## $f(x)=\\ln (16x^2)$\n",
    "\n",
    "## Решение:"
   ]
  },
  {
   "cell_type": "markdown",
   "metadata": {},
   "source": [
    "## 6. * Дана функция\n",
    "\n",
    "## $f(x)=x^2$\n",
    "\n",
    "\n",
    "\n",
    "## a. Разложить функцию в ряд Фурье по косинусам на отрезке $ x \\in [-2, 0] $\n",
    "\n",
    "## b. Построить график функции и ее разложения.\n",
    "\n",
    "## Решение:"
   ]
  },
  {
   "cell_type": "markdown",
   "metadata": {},
   "source": [
    "# Тема 8 “Понятие об интеграле”"
   ]
  },
  {
   "cell_type": "markdown",
   "metadata": {},
   "source": [
    "## 1. Найти неопределенный интеграл:\n",
    "\n",
    "## $\\int (2x^2-2x-1+\\sin x-\\cos x+\\ln x+e^x)\\, \\mathrm{d}x$\n",
    "\n",
    "## Решение:"
   ]
  },
  {
   "cell_type": "markdown",
   "metadata": {},
   "source": [
    "$\\int(2x^2-2x-1+\\sin x-\\cos x+\\ln x+e^x)dx = \\int2x^2dx-\\int2xdx-\\int1dx+\\int\\sin xdx-\\int\\cos xdx+\\int\\ln xdx+\\int e^xdx=$\n",
    "$=\\frac{2}{3}x^3-x^2-x-\\cos x-\\sin x+x\\ln x-x+e^x+C$"
   ]
  },
  {
   "cell_type": "markdown",
   "metadata": {},
   "source": [
    "## 2. Найти неопределенный интеграл:\n",
    "\n",
    "## $\\int (2x-6xz^2-5x^2y-3\\ln x)\\, \\mathrm{d}x$\n",
    "\n",
    "## Решение:"
   ]
  },
  {
   "cell_type": "markdown",
   "metadata": {},
   "source": [
    "$\\int (2x-6xz^2-5x^2y-3\\ln (x)dx =2\\int xdx+6\\int xz^2 dx - 5\\int yx^2 dx - 3\\int \\ln (z) dx =$\n",
    "\n",
    "$=x^2+3z^2x^2-\\frac{5}{3}x^3-3\\ln (z) x +C$"
   ]
  },
  {
   "cell_type": "markdown",
   "metadata": {},
   "source": [
    "## 3. Вычислить определенный интеграл\n",
    "\n",
    "## $\\int\\limits_0^{\\pi} 3x^2\\sin(2x)dx$\n",
    "\n",
    "## Решение:"
   ]
  },
  {
   "cell_type": "markdown",
   "metadata": {},
   "source": [
    "$\\int\\limits_0^{\\pi} 3x^2\\sin(2x)dx$\n",
    "\n",
    "Применем $\\int udv = uv - \\int vdu$ , где $u=x^2, dv = \\sin 2x$\n",
    "\n",
    "$\\int 3x^2\\sin(2x)dx = 3(x^2(\\sin 2x)'-\\int(sin 2x)'dx^2 = 3(x^2(-\\frac{1}{2} \\cos 2x)-\\int -\\frac{1}{2} \\cos 2x 2x dx = 3(-\\frac{x^2\\cos 2x}{2}+\\int x \\cos 2x dx)$\n",
    "\n",
    "Применем $\\int udv = uv - \\int vdu$ , где $u=x, dv = \\cos 2x$\n",
    "\n",
    "$3(-\\frac{x^2\\cos 2x}{2}+\\int x \\cos 2x dx) = 3(-\\frac{x^2\\cos 2x}{2}+(x\\frac{1}{2}\\sin2x - \\frac{1}{2}\\int\\sin 2x dx))$\n",
    "\n",
    "Применем $\\int udv = uv - \\int vdu$ , где $u=2x, du = 2dx, \\frac{1}{2}du = dx, dv = \\sin 2x, (\\frac{1}{2}\\sin 2x)'=cos 2x$\n",
    "\n",
    "$3(-\\frac{x^2\\cos 2x}{2}+(\\frac{x\\sin2x}{2} - \\frac{1}{2}\\int\\sin 2x dx))=3(-\\frac{x^2\\cos 2x}{2}+(\\frac{x\\sin2x}{2} - \\frac{1}{2}\\int\\sin 2x frac{1}{2}d(2x)))= 3(-\\frac{x^2\\cos 2x}{2}+(\\frac{x\\sin2x}{2} + \\frac{1}{4}\\cos 2x ))=$\n",
    "\n",
    "$=3(-\\frac{x^2\\cos 2x}{2}+\\frac{x\\sin2x}{2} + \\frac{\\cos 2x}{4} )+ C$\n",
    "\n",
    "использовать формулу Ньютона-Лейбница: $\\int\\limits_a^b f(x)dx = F(x)|_a^b = F(b) -F(a)$\n",
    "\n",
    "\n",
    "$F(x)|_0^\\pi = 3(-\\frac{\\pi^2\\cos 2\\pi}{2}+\\frac{\\pi\\sin2\\pi}{2} + \\frac{\\cos 2\\pi}{4} ) - 3(-\\frac{0^2\\cos 0}{2}+\\frac{0\\sin 0}{2} + \\frac{\\cos 0}{4} ) = 3(-\\frac{\\pi^2}{2}+0 + \\frac{1}{4} ) - 3(0+0 + \\frac{1}{4} ) = (-\\frac{3\\pi^2}{2}+0 + \\frac{3}{4}  -  \\frac{3}{4} ) = -\\frac{3\\pi^2}{2}$\n"
   ]
  },
  {
   "cell_type": "markdown",
   "metadata": {},
   "source": [
    "## 4. Найти неопределенный интеграл:\n",
    "\n",
    "## $\\int \\frac{1}{\\sqrt{x+1}}\\, \\mathrm{d}x$\n",
    "\n",
    "## Решение:"
   ]
  },
  {
   "cell_type": "markdown",
   "metadata": {},
   "source": [
    "$\\int \\frac{1}{\\sqrt{x+1}}dx = \\int (x+1)^{-\\frac{1}{2}}dx$\n",
    "\n",
    "$(x+1)=t$\n",
    "$x=t-1$\n",
    "$dt=d(x+1)=(x+1)'dx=dx$\n",
    "\n",
    "$\\int t^{-\\frac{1}{2}}dt=2t^{\\frac{1}{2}}+C$\n",
    "\n",
    "$\\int \\frac{1}{\\sqrt{x+1}}dx =2\\sqrt{x+1} +C$\n"
   ]
  }
 ],
 "metadata": {
  "kernelspec": {
   "display_name": "Python 3",
   "language": "python",
   "name": "python3"
  },
  "language_info": {
   "codemirror_mode": {
    "name": "ipython",
    "version": 3
   },
   "file_extension": ".py",
   "mimetype": "text/x-python",
   "name": "python",
   "nbconvert_exporter": "python",
   "pygments_lexer": "ipython3",
   "version": "3.7.3"
  }
 },
 "nbformat": 4,
 "nbformat_minor": 2
}
