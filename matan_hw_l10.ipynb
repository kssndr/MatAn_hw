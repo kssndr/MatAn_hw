{
 "cells": [
  {
   "cell_type": "markdown",
   "metadata": {},
   "source": [
    "# Lesson 10"
   ]
  },
  {
   "cell_type": "markdown",
   "metadata": {},
   "source": [
    "# Тема 7 “Ряды”"
   ]
  },
  {
   "cell_type": "markdown",
   "metadata": {},
   "source": [
    "## 1. Исследовать ряд на сходимость, используя признак д’Аламбера:\n",
    "\n",
    "## $\\sum\\limits_{n=1}^\\infty \\frac{n^n}{(n!)^2}$"
   ]
  },
  {
   "cell_type": "markdown",
   "metadata": {},
   "source": [
    "## 2. Исследовать ряд на сходимость, используя радикальный признак Коши:\n",
    "\n",
    "\n",
    "## $\\sum\\limits_{n=1}^\\infty \\frac{n}{2^n}$"
   ]
  },
  {
   "cell_type": "markdown",
   "metadata": {},
   "source": [
    "## 3. Исследовать ряд на сходимость, используя признак Лейбница:\n",
    "\n",
    "## $\\sum\\limits_{n=1}^\\infty \\frac{(-1)^n}{n+\\ln n}$"
   ]
  },
  {
   "cell_type": "markdown",
   "metadata": {},
   "source": [
    "## 4. Исследовать ряд на сходимость, используя признак Раабе:\n",
    "\n",
    "## $\\sum\\limits_{n=1}^\\infty \\frac{3^n}{2^n}$"
   ]
  },
  {
   "cell_type": "markdown",
   "metadata": {},
   "source": [
    "## 5. Разложить функцию по Тейлору в единице:\n",
    "\n",
    "## $f(x)=\\ln (16x^2)$"
   ]
  },
  {
   "cell_type": "markdown",
   "metadata": {},
   "source": [
    "## 6. * Дана функция\n",
    "\n",
    "## $f(x)=x^2$\n",
    "\n",
    "\n",
    "\n",
    "a. Разложить функцию в ряд Фурье по косинусам на отрезке $ x \\in [-2, 0] $\n",
    "\n",
    "b. Построить график функции и ее разложения."
   ]
  },
  {
   "cell_type": "markdown",
   "metadata": {},
   "source": [
    "# Тема 8 “Понятие об интеграле”"
   ]
  },
  {
   "cell_type": "markdown",
   "metadata": {},
   "source": [
    "## 1. Найти неопределенный интеграл:\n",
    "\n",
    "## $\\int (2x^2-2x-1+\\sin x-\\cos x+\\ln x+e^x)\\, \\mathrm{d}x$"
   ]
  },
  {
   "cell_type": "markdown",
   "metadata": {},
   "source": [
    "## 2. Найти неопределенный интеграл:\n",
    "\n",
    "## $\\int (2x-6xz^2-5x^2y-3\\ln x)\\, \\mathrm{d}x$"
   ]
  },
  {
   "cell_type": "markdown",
   "metadata": {},
   "source": [
    "## 3. Вычислить определенный интеграл\n",
    "\n",
    "## $\\int\\limits_0^{\\pi} 3x^2\\sin(2x)dx$"
   ]
  },
  {
   "cell_type": "markdown",
   "metadata": {},
   "source": [
    "## 4. Найти неопределенный интеграл:\n",
    "\n",
    "## $\\int \\frac{1}{\\sqrt{x+1}}\\, \\mathrm{d}x$"
   ]
  }
 ],
 "metadata": {
  "kernelspec": {
   "display_name": "Python 3",
   "language": "python",
   "name": "python3"
  },
  "language_info": {
   "codemirror_mode": {
    "name": "ipython",
    "version": 3
   },
   "file_extension": ".py",
   "mimetype": "text/x-python",
   "name": "python",
   "nbconvert_exporter": "python",
   "pygments_lexer": "ipython3",
   "version": "3.7.3"
  }
 },
 "nbformat": 4,
 "nbformat_minor": 2
}
