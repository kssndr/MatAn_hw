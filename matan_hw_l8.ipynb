{
 "cells": [
  {
   "cell_type": "markdown",
   "metadata": {},
   "source": [
    "# Тема 8 “Производные функций нескольких переменных.”"
   ]
  },
  {
   "cell_type": "markdown",
   "metadata": {},
   "source": [
    "## Найти частные производные первого и второго порядка."
   ]
  },
  {
   "cell_type": "markdown",
   "metadata": {},
   "source": [
    "## Убедиться в равенстве смешанных производных."
   ]
  },
  {
   "cell_type": "raw",
   "metadata": {},
   "source": [
    "1)\n",
    "\n",
    "𝑈 = 𝑥^3 + 3𝑥𝑦^2 + 𝑧^2 − 39𝑥 − 36𝑦 + 2𝑧 + 26\n",
    "\n",
    "𝑈'𝑥 = 3𝑥^2 + 3𝑦^2-39\n",
    "𝑈'𝑦 = 6𝑥𝑦 - 36\n",
    "𝑈'𝑧 = 2𝑧 + 2\n",
    "𝑈\"𝑥𝑥 = 𝑈\"𝑦𝑦 = 6𝑥\n",
    "𝑈\"𝑧𝑧 = 2\n",
    "𝑈\"𝑥𝑦 = 𝑈\"𝑦𝑥 = 6𝑦\n",
    "𝑈\"𝑥𝑧 = 𝑈\"𝑦𝑧 = 𝑈\"𝑧𝑦 = 𝑈\"𝑧𝑥 = 0"
   ]
  },
  {
   "cell_type": "markdown",
   "metadata": {},
   "source": [
    "2)\n",
    "\n",
    "𝑈 = 256/𝑥 + 𝑥^2/𝑦 + 𝑦^2/𝑧 + 𝑧^2\n",
    "\n",
    "𝑈'𝑥 = -256/𝑥^2 + 2𝑥/𝑦\n",
    "𝑈\"𝑥𝑥 = 512/𝑥^3 + 2/𝑦\n",
    "𝑈\"𝑥𝑦 = -2𝑥/𝑦^2\n",
    "𝑈\"𝑥𝑧 = 0\n",
    "\n",
    "𝑈'𝑦 = -𝑥^2/𝑦^2 + 2𝑦/𝑧\n",
    "𝑈\"𝑦𝑦 = 2𝑥^2/𝑦^3 + 2/𝑧\n",
    "𝑈\"𝑦𝑥 = -2𝑥/𝑦^2\n",
    "𝑈\"𝑦𝑧 = -2𝑦/𝑧^2\n",
    "\n",
    "𝑈'𝑧 = -𝑦^2/𝑧^2 + 2𝑧\n",
    "𝑈\"𝑧𝑧 = 2𝑦^2/𝑧^3 + 2\n",
    "𝑈\"𝑧𝑥 = 0\n",
    "𝑈\"𝑧𝑦 = -2𝑦/𝑧^2"
   ]
  },
  {
   "cell_type": "raw",
   "metadata": {},
   "source": [
    "3)\n",
    "\n",
    "Найти производную функции 𝑈 = 𝑥^2 + 𝑦^2 + 𝑧^2 по направлению вектора 𝑐(−9, 8, −12) в точку 𝑀(8; −12; 9)\n",
    "\n",
    "есть вектор, нужно узнать чему равен градиент (скорость прироста функции) в доль этого вектора в определенной точке.\n",
    "\n",
    "grad 𝑈 = (𝑈'𝑥,𝑈'𝑦,𝑈'𝑧)\n",
    "\n",
    "𝑈'c = (c0 grad 𝑈)\n",
    "\n",
    "c0 = c/|co|\n",
    "\n",
    "найдем единичный вектор c0, (так как координаты единичного вектора равны косинусам углов для проекции градиента на заданный вектор)\n",
    "\n",
    "|co| = (𝑥0^2 + 𝑦0^2 + 𝑧0^2)^1/2 = (-9^2 + 8^2 + (-12)^2)^1/2 = (81 + 64 + 144)^1/2 = (289)^1/2 = 17\n",
    "\n",
    "c0 = (-9/17,8/17, -12/17)\n",
    "\n",
    "теперь находим градиент в точке 𝑀(8; −12; 9):\n",
    "\n",
    "𝑈'𝑥 = 2𝑥\n",
    "𝑈'𝑦 = 2𝑦\n",
    "𝑈'𝑧 = 2𝑧\n",
    "\n",
    "grad 𝑈 = (𝑈'𝑥,𝑈'𝑦,𝑈'𝑧) = (2𝑥,2𝑦,2𝑧)\n",
    "\n",
    "grad 𝑈(8; −12; 9) = (16,-24,18)\n",
    "\n",
    "теперь находим проекцию градиента на заданный вектор\n",
    "\n",
    "𝑈'c = (c0 grad 𝑈) = (-9/17) 16 + 8/17(-24) + (-12/17)18 = -32 8/17\n"
   ]
  },
  {
   "cell_type": "raw",
   "metadata": {},
   "source": [
    "4)\n",
    "\n",
    "Найти производную функции 𝑈 = 𝑒^(𝑥^2+𝑦^2+𝑧^2) по направлениювектора 𝑑(4,−13,−16) в точку 𝐿(−16;4;−13).\n",
    "\n",
    "найдем единичный вектор 𝑑0, (так как координаты единичного вектора равны косинусам углов для проекции градиента на заданный вектор)\n",
    "\n",
    "|do| = (𝑥0^2 + 𝑦0^2 + 𝑧0^2)^1/2 = (4^2 + (-13)^2 + (-16)^2)^1/2 = (16 + 169 + 256)^1/2 = (441)^1/2 = 21\n",
    "\n",
    "d0 = (4/21,-13/21, -16/21)\n",
    "\n",
    "теперь находим градиент в точке 𝐿(−16;4;−13):\n",
    "\n",
    "𝑈'𝑥 = 2𝑥 e^(𝑥^2+𝑦^2+𝑧^2)\n",
    "𝑈'𝑦 = 2𝑦 e^(𝑥^2+𝑦^2+𝑧^2)\n",
    "𝑈'𝑧 = 2𝑧 e^(𝑥^2+𝑦^2+𝑧^2)\n",
    "\n",
    "grad 𝑈 = (𝑈'𝑥,𝑈'𝑦,𝑈'𝑧) = (2𝑥 e^(𝑥^2+𝑦^2+𝑧^2),2𝑦 e^(𝑥^2+𝑦^2+𝑧^2),2𝑧 e^(𝑥^2+𝑦^2+𝑧^2))\n",
    "\n",
    "grad 𝑈(−16;4;−13) = (-32e^441,16e^441,-26e^441)\n",
    "\n",
    "теперь находим проекцию градиента на заданный вектор\n",
    "\n",
    "𝑈'd =4/21 (-32e^441) + (-13/21)16e^441 + (-16/21)(-26e^441) = e^441/21((-32)4 + (-13)16+16*26) = 80  e^441/21"
   ]
  },
  {
   "cell_type": "raw",
   "metadata": {},
   "source": [
    "5*. \n",
    "\n",
    "Найти производную функции 𝑈 = log21(𝑥^2 + 𝑦^2 + 𝑧^2) в точку 𝐹(−19;8;−4) по самому быстрому направлению.\n",
    "\n",
    "самое быстрое направление изменения функции показывает градиент\n",
    "найдем градиент\n",
    "\n",
    "grad 𝑈 = (𝑈'𝑥,𝑈'𝑦,𝑈'𝑧)\n",
    "\n",
    "𝑈'𝑥 = 2𝑥/(𝑥^2 ln21+𝑦^2 ln21+𝑧^2 ln21)\n",
    "𝑈'𝑦 = 2𝑦/(𝑥^2 ln21+𝑦^2 ln21+𝑧^2 ln21)\n",
    "𝑈'𝑧 = 2𝑧/(𝑥^2 ln21+𝑦^2 ln21+𝑧^2 ln21)\n",
    "\n",
    "grad 𝑈 = (𝑈'𝑥,𝑈'𝑦,𝑈'𝑧) = (2𝑥/(𝑥^2 ln21+𝑦^2 ln21+𝑧^2 ln21) ; 2𝑦/(𝑥^2 ln21+𝑦^2 ln21+𝑧^2 ln21); 2𝑧/(𝑥^2 ln21+𝑦^2 ln21+𝑧^2 ln21))\n",
    "\n",
    "градиент в точке 𝐹(−19;8;−4)\n",
    "\n",
    "grad 𝑈 (−19;8;−4) = (-38/ln21^441 ; 16/ln21^441 ; -8/ln21^441 )\n",
    "\n",
    "|grad 𝑈o (−19;8;−4)| = SQRT((-38/ln21^441)^2 + (16/ln21^441)^2 + (-8/ln21^441)^2) = 42/ln21^441\n",
    "\n",
    "grad 𝑈o (−19;8;−4) = (-38/42 ; 16/42 ; -8/42)\n",
    "\n",
    "𝑈'grad 𝑈o (−19;8;−4) = (-38/42)(-38/ln21^441) + 16/42 (16/ln21^441) + (-8/42)(-8/ln21^441) = 42/ln21^441"
   ]
  },
  {
   "cell_type": "markdown",
   "metadata": {},
   "source": [
    "## Исследовать на экстремум следующие функции"
   ]
  },
  {
   "cell_type": "raw",
   "metadata": {},
   "source": [
    "6. \n",
    "\n",
    "𝑈 = 𝑥^2 𝑦 + 1/3 𝑦^3 + 2𝑥^2 + 3𝑦^2 − 1\n",
    "\n",
    "𝑈'𝑥 = 2𝑥𝑦 + 4𝑥\n",
    "𝑈'𝑦 = 𝑥^2 + 𝑦^2 + 6𝑦\n",
    "\n",
    "2𝑥(𝑦 + 2) = 0\n",
    "𝑦^2 + 6𝑦 = 0\n",
    "\n",
    "𝑥 = 0 \n",
    "𝑦(𝑦 + 6) = 0\n",
    "\n",
    "получаем две точки\n",
    "(0;0)\n",
    "(0;-6)\n",
    "\n",
    "𝑈\"𝑥𝑥 = 2𝑦 + 4\n",
    "𝑈\"𝑦𝑦 = 2𝑦 + 6\n",
    "\n",
    "𝑈\"𝑥𝑦 = 𝑈\"𝑦𝑥 = 2𝑥\n",
    "\n",
    "\n",
    "𝑈\"𝑥𝑥 𝑈\"𝑥𝑦   2𝑦 + 4  2𝑥\n",
    "          =           = (2𝑦 + 4)(2𝑦 + 6) - 2𝑥^2 = \n",
    "𝑈\"𝑦𝑥 𝑈\"𝑦𝑦   2𝑥  2𝑦 + 6\n",
    "\n",
    "(0;0) - точка минимума\n",
    "\n",
    "Δ1 = 𝑈\"𝑥𝑥 = 2𝑦 + 4 = 4 > 0 \n",
    "Δ2 = 𝑈\"𝑥𝑥 𝑈\"𝑦𝑦 - (𝑈\"𝑥𝑦)^2 = (2𝑦 + 4)(2𝑦 + 6) - 2𝑥^2 = 24 > 0\n",
    "\n",
    "(0;-6) - точка максимума\n",
    "\n",
    "Δ1 = 𝑈\"𝑥𝑥 = 2𝑦 + 4 = -8 > 0 \n",
    "Δ2 = 𝑈\"𝑥𝑥 𝑈\"𝑦𝑦 - (𝑈\"𝑥𝑦)^2 = (2𝑦 + 4)(2𝑦 + 6) - 2𝑥^2 =  (-8)(-6) = 48 > 0"
   ]
  },
  {
   "cell_type": "raw",
   "metadata": {},
   "source": [
    "7∗. \n",
    "\n",
    "𝑈 = 𝑒^(−𝑥/2) (𝑥^2 + 𝑦^2)\n",
    "\n",
    "𝑈'𝑥 = (𝑒^(−𝑥/2))' (𝑥^2 + 𝑦^2) + 𝑒^(−𝑥/2) (𝑥^2 + 𝑦^2)' = 𝑒^(−𝑥/2)(-1/2)(𝑥^2 + 𝑦^2) + 𝑒^(−𝑥/2) 2𝑥 = 1/2 𝑒^(−𝑥/2) (4𝑥 - 𝑥^2 - 𝑦^2)\n",
    "𝑈'𝑦 = 𝑒^(−𝑥/2) (𝑥^2 + 𝑦^2) = 2𝑦𝑒^(−𝑥/2)\n",
    "\n",
    "1/2 𝑒^(−𝑥/2) (4𝑥 - 𝑥^2 - 𝑦^2) = 0\n",
    "2𝑦𝑒^(−𝑥/2) = 0 \n",
    "\n",
    "𝑦 = 0\n",
    "1/2 𝑒^(−𝑥/2) (4𝑥 - 𝑥^2) = 0 \n",
    "\n",
    "𝑦 = 0\n",
    "𝑥𝑒^(−𝑥/2) (4 - 𝑥) = 0 \n",
    "\n",
    "𝑦 = 0\n",
    "𝑥 = 0, 𝑥 = 4\n",
    "\n",
    "получаем две точки\n",
    "(0;0)\n",
    "(4;0)\n",
    "\n",
    "\n",
    "𝑈\"𝑥𝑥 = (1/2 𝑒^(−𝑥/2) (4𝑥 - 𝑥^2 - 𝑦^2))' = 1/2 𝑒^(−𝑥/2)(-1/2) (4𝑥 - 𝑥^2 - 𝑦^2) + 1/2 𝑒^(−𝑥/2)(4 - 2𝑥) = \n",
    "     = 𝑒^(−𝑥/2)(𝑥^2/4 + 𝑦^2/4 - 2𝑥 + 2)\n",
    "𝑈\"𝑦𝑦 = (2𝑦𝑒^(−𝑥/2)'= 2𝑒^(−𝑥/2)\n",
    "\n",
    "𝑈\"𝑥𝑦 = 𝑈\"𝑦𝑥 = -𝑦𝑒^(−𝑥/2)\n",
    "\n",
    "(0;0) - точка минимума\n",
    "\n",
    "Δ1 = 𝑈\"𝑥𝑥 = 𝑒^(−0/2)(0^2/4 + 0^2/4 - 2*0 + 2) = 2 > 0 \n",
    "Δ2 = 𝑈\"𝑥𝑥 𝑈\"𝑦𝑦 - (𝑈\"𝑥𝑦)^2 = 𝑒^(−𝑥/2)(𝑥^2/4 + 𝑦^2/4 - 2𝑥 + 2) (2𝑒^(−𝑥/2)) - (-𝑦𝑒^(−𝑥/2))^2 = \n",
    "\n",
    "= 𝑒^(−0/2)(0^2/4 + 0^2/4 - 2*0 + 2) (2𝑒^(−0/2)) - (-0𝑒^(−0/2))^2 = 4 >0\n",
    "\n",
    "(4;0) - седловая точка\n",
    "\n",
    "Δ1 = 𝑈\"𝑥𝑥 = 𝑒^(−4/2)(4^2/4 + 0^2/4 - 2*4 + 2) = 𝑒^(−2)(4 - 8 + 2) = 𝑒^(−2)(-2) < 0\n",
    "Δ2 = 𝑈\"𝑥𝑥 𝑈\"𝑦𝑦 - (𝑈\"𝑥𝑦)^2 = 𝑒^(−𝑥/2)(𝑥^2/4 + 𝑦^2/4 - 2𝑥 + 2) (2𝑒^(−𝑥/2)) - (-𝑦𝑒^(−𝑥/2))^2 = \n",
    "\n",
    "= 𝑒^(−4/2)(4^2/4 + 0^2/4 - 2*4 + 2) (2𝑒^(−4/2)) - (-0𝑒^(−4/2))^2 =\n",
    "\n",
    "= 𝑒^(−2)(4 - 8 + 2) (2𝑒^(−2)) = (-4)(𝑒^(0) = -4 < 0\n"
   ]
  },
  {
   "cell_type": "markdown",
   "metadata": {},
   "source": [
    "## 8**. С помощь метода наименьшие квадратов (МНК) подобрать значения параметров 𝑎 и 𝑏 для сигмоидальной функции 𝑦 = 1/(1+e^(-ax+b)) по заданному распределению в 1+𝑒 −𝑎𝑥+𝑏 файле «SGN.ipynb»"
   ]
  },
  {
   "cell_type": "code",
   "execution_count": 29,
   "metadata": {},
   "outputs": [
    {
     "name": "stdout",
     "output_type": "stream",
     "text": [
      "0.8566718053189938 0.050537716397752945\n",
      "0.8566718053189938 0.050537716397752945\n"
     ]
    },
    {
     "data": {
      "image/png": "[encoded data removed]",
      "text/plain": [
       "<Figure size 432x288 with 1 Axes>"
      ]
     },
     "metadata": {
      "needs_background": "light"
     },
     "output_type": "display_data"
    }
   ],
   "source": [
    "import numpy as np\n",
    "import matplotlib.pyplot as plt\n",
    "from scipy.optimize import fsolve, broyden1\n",
    "import math\n",
    "\n",
    "\n",
    "# Задаем рандомное распределение точек\n",
    "x = np.random.uniform(-8, 8, 200)\n",
    "a = np.random.uniform(0.5, 1.5, 200)\n",
    "b = np.random.uniform(-1, 1, 200)\n",
    "\n",
    "y = 1/(1+np.exp(-a*x-b))\n",
    "plt.plot(x,y, marker=\"o\", ls=\"\")\n",
    "\n",
    "\n",
    "\n",
    "\n",
    "def equations(p):\n",
    "    A, B = p\n",
    "    # Запись системы уравнения вида x+y=2, x-y=0\n",
    "    return ((((2*x*np.exp(-A*x-B))/(1+np.exp(-A*x-B))**2)*(-y+1/(1+np.exp(-A*x-B)))).sum(), (((2*np.exp(-A*x-B))/(1+np.exp(-A*x-B))**2)*(-y+1/(1+np.exp(-A*x-B)))).sum())\n",
    "\n",
    "# Численное решение нелинечной системы уравнений\n",
    "A, B =  fsolve(equations, (1, 1))\n",
    "print (A, B)\n",
    "\n",
    "xa = np.linspace(-8, 8, 200)\n",
    "ya = 1/(1+np.exp(-A*xa-B))\n",
    "plt.plot(xa,ya)\n",
    "print (A, B)\n",
    "plt.show()"
   ]
  },
  {
   "cell_type": "code",
   "execution_count": 30,
   "metadata": {},
   "outputs": [
    {
     "ename": "SyntaxError",
     "evalue": "invalid syntax (<ipython-input-30-d25551a1dcfb>, line 2)",
     "output_type": "error",
     "traceback": [
      "\u001b[0;36m  File \u001b[0;32m\"<ipython-input-30-d25551a1dcfb>\"\u001b[0;36m, line \u001b[0;32m2\u001b[0m\n\u001b[0;31m    Я ЭТО СМОГ ПОНЯТЬ И СДЕЛАТЬ САМ\u001b[0m\n\u001b[0m        ^\u001b[0m\n\u001b[0;31mSyntaxError\u001b[0m\u001b[0;31m:\u001b[0m invalid syntax\n"
     ]
    }
   ],
   "source": [
    "ФАНТАСТИКА !!!!!\n",
    "Я ЭТО СМОГ ПОНЯТЬ И СДЕЛАТЬ САМ"
   ]
  },
  {
   "cell_type": "code",
   "execution_count": null,
   "metadata": {},
   "outputs": [],
   "source": []
  }
 ],
 "metadata": {
  "kernelspec": {
   "display_name": "Python 3",
   "language": "python",
   "name": "python3"
  },
  "language_info": {
   "codemirror_mode": {
    "name": "ipython",
    "version": 3
   },
   "file_extension": ".py",
   "mimetype": "text/x-python",
   "name": "python",
   "nbconvert_exporter": "python",
   "pygments_lexer": "ipython3",
   "version": "3.7.3"
  }
 },
 "nbformat": 4,
 "nbformat_minor": 2
}
