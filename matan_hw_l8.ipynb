{
 "cells": [
  {
   "cell_type": "markdown",
   "metadata": {},
   "source": [
    "# Тема 8 “Производные функций нескольких переменных.”"
   ]
  },
  {
   "cell_type": "markdown",
   "metadata": {},
   "source": [
    "## Найти частные производные первого и второго порядка."
   ]
  },
  {
   "cell_type": "markdown",
   "metadata": {},
   "source": [
    "## Убедиться в равенстве смешанных производных."
   ]
  },
  {
   "cell_type": "raw",
   "metadata": {},
   "source": [
    "1)\n",
    "\n",
    "𝑈 = 𝑥3 + 3𝑥𝑦2 + 𝑧2 − 39𝑥 − 36𝑦 + 2𝑧 + 26"
   ]
  },
  {
   "cell_type": "raw",
   "metadata": {},
   "source": [
    "2)\n",
    "\n",
    "256 𝑥2 𝑦2 2.𝑈= 𝑥 +𝑦+𝑧+𝑧2"
   ]
  },
  {
   "cell_type": "raw",
   "metadata": {},
   "source": [
    "3)\n",
    "\n",
    "Найти производную функции 𝑈 = 𝑥2 + 𝑦2 + 𝑧2 по направлению вектора 𝑐(−9, 8, −12) в точку 𝑀(8; −12; 9)."
   ]
  },
  {
   "cell_type": "raw",
   "metadata": {},
   "source": [
    "4)\n",
    "\n",
    "Найти производную функции 𝑈 = 𝑒^(𝑥2+𝑦2+𝑧2) по направлениювектора 𝑑(4,−13,−16) вточку 𝐿(−16;4;−13)."
   ]
  },
  {
   "cell_type": "raw",
   "metadata": {},
   "source": [
    "5*. \n",
    "\n",
    "Найти производную функции 𝑈 = log21(𝑥2 + 𝑦2 + 𝑧2) в точку(𝐹−19;8;−4) посамомубыстромунаправлению."
   ]
  },
  {
   "cell_type": "markdown",
   "metadata": {},
   "source": [
    "## Исследовать на экстремум следующие функции"
   ]
  },
  {
   "cell_type": "raw",
   "metadata": {},
   "source": [
    "6. \n",
    "\n",
    "𝑈 = 𝑥^2 𝑦 + 1/3 𝑦^3 + 2𝑥^2 + 3𝑦^2 − 1"
   ]
  },
  {
   "cell_type": "raw",
   "metadata": {},
   "source": [
    "7∗. \n",
    "\n",
    "𝑈 = 𝑒^(−𝑥/2) (𝑥^2 + 𝑦^2)"
   ]
  },
  {
   "cell_type": "markdown",
   "metadata": {},
   "source": [
    "## 8**. С помощь метода наименьшие квадратов (МНК) подобрать значения параметров 𝑎 и 𝑏 для сигмоидальной функции 𝑦 = 1/(1+e^(-ax+b)) по заданному распределению в 1+𝑒 −𝑎𝑥+𝑏 файле «SGN.ipynb»"
   ]
  },
  {
   "cell_type": "code",
   "execution_count": null,
   "metadata": {},
   "outputs": [],
   "source": []
  }
 ],
 "metadata": {
  "kernelspec": {
   "display_name": "Python 3",
   "language": "python",
   "name": "python3"
  },
  "language_info": {
   "codemirror_mode": {
    "name": "ipython",
    "version": 3
   },
   "file_extension": ".py",
   "mimetype": "text/x-python",
   "name": "python",
   "nbconvert_exporter": "python",
   "pygments_lexer": "ipython3",
   "version": "3.7.3"
  }
 },
 "nbformat": 4,
 "nbformat_minor": 2
}
