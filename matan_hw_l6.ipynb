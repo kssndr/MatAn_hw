{
 "cells": [
  {
   "cell_type": "markdown",
   "metadata": {},
   "source": [
    "# Тема 6 “Понятие о производной”"
   ]
  },
  {
   "cell_type": "markdown",
   "metadata": {},
   "source": [
    "## 1. Найти производную выражения:"
   ]
  },
  {
   "cell_type": "raw",
   "metadata": {},
   "source": [
    "a) \n",
    "\n",
    "sin x cos x"
   ]
  },
  {
   "cell_type": "raw",
   "metadata": {},
   "source": [
    "b) \n",
    "\n",
    "ln (2x |1)^3"
   ]
  },
  {
   "cell_type": "raw",
   "metadata": {},
   "source": [
    "c) \n",
    "\n",
    "(sin^2(ln(x^3)))^1/2"
   ]
  },
  {
   "cell_type": "raw",
   "metadata": {},
   "source": [
    "d)\n",
    "\n",
    "x^4/ln(x)"
   ]
  },
  {
   "cell_type": "markdown",
   "metadata": {},
   "source": [
    "## 2. Найти выражение производной функции и ее значение в точке:"
   ]
  },
  {
   "cell_type": "raw",
   "metadata": {},
   "source": [
    "f(x) =  cos(x^2 + 3x), x0 = (pi)^1/2"
   ]
  },
  {
   "cell_type": "markdown",
   "metadata": {},
   "source": [
    "## 3. * Найти значение производной функции в точке:"
   ]
  },
  {
   "cell_type": "raw",
   "metadata": {},
   "source": [
    "f(x) =  (x^3 - x^2 - x -1)/(1+2x + 3x^2 - 4x^3), x0 = 0"
   ]
  },
  {
   "cell_type": "markdown",
   "metadata": {},
   "source": [
    "## 4. Найти угол наклона касательной к графику функции в точке:"
   ]
  },
  {
   "cell_type": "raw",
   "metadata": {},
   "source": [
    "f(x) = (3x)^1/2 ln x, x0 = 1"
   ]
  }
 ],
 "metadata": {
  "kernelspec": {
   "display_name": "Python 3",
   "language": "python",
   "name": "python3"
  },
  "language_info": {
   "codemirror_mode": {
    "name": "ipython",
    "version": 3
   },
   "file_extension": ".py",
   "mimetype": "text/x-python",
   "name": "python",
   "nbconvert_exporter": "python",
   "pygments_lexer": "ipython3",
   "version": "3.7.3"
  }
 },
 "nbformat": 4,
 "nbformat_minor": 2
}
